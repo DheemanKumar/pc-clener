{
 "cells": [
  {
   "cell_type": "code",
   "execution_count": 3,
   "metadata": {},
   "outputs": [],
   "source": [
    "import os\n",
    "import shutil\n",
    "import random\n"
   ]
  },
  {
   "cell_type": "code",
   "execution_count": 8,
   "metadata": {},
   "outputs": [],
   "source": [
    "source_folder = 'folder'\n",
    "new_folder=\"catagories\"\n"
   ]
  },
  {
   "cell_type": "code",
   "execution_count": 9,
   "metadata": {},
   "outputs": [],
   "source": [
    "train_size = 0.7\n",
    "val_size = 0.15\n",
    "test_size = 0.15\n"
   ]
  },
  {
   "cell_type": "code",
   "execution_count": 10,
   "metadata": {},
   "outputs": [],
   "source": [
    "train_dir = os.path.join(new_folder, 'train')\n",
    "val_dir = os.path.join(new_folder, 'validation')\n",
    "test_dir = os.path.join(new_folder, 'test')\n",
    "\n",
    "os.makedirs(train_dir, exist_ok=True)\n",
    "os.makedirs(val_dir, exist_ok=True)\n",
    "os.makedirs(test_dir, exist_ok=True)\n"
   ]
  },
  {
   "cell_type": "code",
   "execution_count": 16,
   "metadata": {},
   "outputs": [],
   "source": [
    "for category in os.listdir(source_folder):\n",
    "    category_path = os.path.join(source_folder, category)\n",
    "    if os.path.isdir(category_path):\n",
    "        train_category_dir = os.path.join(train_dir, category)\n",
    "        val_category_dir = os.path.join(val_dir, category)\n",
    "        test_category_dir = os.path.join(test_dir, category)\n",
    "\n",
    "        os.makedirs(train_category_dir, exist_ok=True)\n",
    "        os.makedirs(val_category_dir, exist_ok=True)\n",
    "        os.makedirs(test_category_dir, exist_ok=True)\n",
    "\n",
    "        # Get a list of image files in the category\n",
    "        files = os.listdir(category_path)\n",
    "        random.shuffle(files)\n",
    "\n",
    "        num_train = int(len(files) * train_size)\n",
    "        num_val = int(len(files) * val_size)\n",
    "        num_test = len(files) - num_train - num_val\n",
    "\n",
    "        train_files = files[:num_train]\n",
    "        for file in train_files:\n",
    "            shutil.copy(os.path.join(category_path, file), os.path.join(train_category_dir, file))\n",
    "\n",
    "        val_files = files[num_train:num_train+num_val]\n",
    "        for file in val_files:\n",
    "            shutil.copy(os.path.join(category_path, file), os.path.join(val_category_dir, file))\n",
    "            \n",
    "        test_files = files[num_train+num_val:]\n",
    "        for file in test_files:\n",
    "            shutil.copy(os.path.join(category_path, file), os.path.join(test_category_dir, file))\n",
    "         "
   ]
  }
 ],
 "metadata": {
  "kernelspec": {
   "display_name": "Python 3",
   "language": "python",
   "name": "python3"
  },
  "language_info": {
   "codemirror_mode": {
    "name": "ipython",
    "version": 3
   },
   "file_extension": ".py",
   "mimetype": "text/x-python",
   "name": "python",
   "nbconvert_exporter": "python",
   "pygments_lexer": "ipython3",
   "version": "3.11.5"
  }
 },
 "nbformat": 4,
 "nbformat_minor": 2
}
