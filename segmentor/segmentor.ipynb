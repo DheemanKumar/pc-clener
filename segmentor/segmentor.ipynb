{
 "cells": [
  {
   "cell_type": "code",
   "execution_count": 1,
   "metadata": {},
   "outputs": [],
   "source": [
    "import os\n",
    "import cv2\n",
    "import numpy as np\n",
    "from tensorflow.keras.models import load_model\n",
    "import tensorflow as tf\n",
    "\n",
    "import shutil\n",
    "\n",
    "from tqdm import tqdm"
   ]
  },
  {
   "cell_type": "code",
   "execution_count": 2,
   "metadata": {},
   "outputs": [
    {
     "name": "stderr",
     "output_type": "stream",
     "text": [
      "2024-03-21 12:15:29.216994: I metal_plugin/src/device/metal_device.cc:1154] Metal device set to: Apple M1\n",
      "2024-03-21 12:15:29.217018: I metal_plugin/src/device/metal_device.cc:296] systemMemory: 8.00 GB\n",
      "2024-03-21 12:15:29.217022: I metal_plugin/src/device/metal_device.cc:313] maxCacheSize: 2.67 GB\n",
      "2024-03-21 12:15:29.217052: I tensorflow/core/common_runtime/pluggable_device/pluggable_device_factory.cc:306] Could not identify NUMA node of platform GPU ID 0, defaulting to 0. Your kernel may not have been built with NUMA support.\n",
      "2024-03-21 12:15:29.217067: I tensorflow/core/common_runtime/pluggable_device/pluggable_device_factory.cc:272] Created TensorFlow device (/job:localhost/replica:0/task:0/device:GPU:0 with 0 MB memory) -> physical PluggableDevice (device: 0, name: METAL, pci bus id: <undefined>)\n"
     ]
    }
   ],
   "source": [
    "# Define your image path\n",
    "folder_path = '/Users/dheemankumar/github/pc-clener/folder'\n",
    "# Load your trained model\n",
    "model = load_model('/Users/dheemankumar/github/pc-clener/segmentor/your_model.h5')\n"
   ]
  },
  {
   "cell_type": "code",
   "execution_count": 3,
   "metadata": {},
   "outputs": [
    {
     "name": "stdout",
     "output_type": "stream",
     "text": [
      "2.14.0\n"
     ]
    }
   ],
   "source": [
    "print(tf.__version__)"
   ]
  },
  {
   "cell_type": "code",
   "execution_count": 4,
   "metadata": {},
   "outputs": [],
   "source": [
    "labels=['docks', 'object', 'persons', 'place']"
   ]
  },
  {
   "cell_type": "code",
   "execution_count": 5,
   "metadata": {},
   "outputs": [],
   "source": [
    "def append_to_text_file(image, output_file):\n",
    "    with open(output_file, 'a') as f:  # 'a' mode for append\n",
    "        f.write(image + '\\n')\n"
   ]
  },
  {
   "cell_type": "code",
   "execution_count": 6,
   "metadata": {},
   "outputs": [],
   "source": [
    "def preprocess_image(image_path):\n",
    "    image = cv2.imread(image_path)\n",
    "    image = cv2.cvtColor(image, cv2.COLOR_BGR2RGB)  # Convert BGR to RGB\n",
    "    image = cv2.resize(image, (224, 224))  # Resize to match input size of your model\n",
    "    image = image / 255.0  # Normalize pixel values to [0, 1]\n",
    "    return image"
   ]
  },
  {
   "cell_type": "code",
   "execution_count": 7,
   "metadata": {},
   "outputs": [],
   "source": [
    "# Define a function to predict the label of an image\n",
    "def predict_image_label(image_path):\n",
    "    image = preprocess_image(image_path)\n",
    "    image = np.expand_dims(image, axis=0)  # Add batch dimension\n",
    "    prediction = model.predict(image,verbose=0)\n",
    "    predicted_class = np.argmax(prediction)\n",
    "    return predicted_class\n"
   ]
  },
  {
   "cell_type": "code",
   "execution_count": 8,
   "metadata": {},
   "outputs": [],
   "source": [
    "def moveimage(image_path):\n",
    "    predicted_label = predict_image_label(image_path)\n",
    "    \n",
    "    shutil.move(image_path,labels[predicted_label])"
   ]
  },
  {
   "cell_type": "code",
   "execution_count": 9,
   "metadata": {},
   "outputs": [],
   "source": [
    "def list_images(folder_path):\n",
    "\n",
    "    # Get the total number of files in the directory tree\n",
    "    total_files = sum(len(files) for _, _, files in os.walk(folder_path))\n",
    "    \n",
    "    # Initialize tqdm with the total number of files\n",
    "    progress_bar = tqdm(total=total_files, desc='Processing images', unit='files')\n",
    "    \n",
    "    \n",
    "    # Walk through the directory tree\n",
    "    for root, dirs, files in os.walk(folder_path):\n",
    "        # Iterate through files\n",
    "        for file in files:\n",
    "            # Check if the file has an image extension\n",
    "            if file.lower().endswith(('.png', '.jpg', '.jpeg')):\n",
    "                # Construct the full path to the image file\n",
    "                image_path = os.path.join(root, file)\n",
    "                moveimage(image_path)\n",
    "                # append_to_text_file(image_path, 'image_list.txt')\n",
    "\n",
    "                # Update the progress bar\n",
    "                progress_bar.update(1)\n",
    "    \n",
    "    progress_bar.close()"
   ]
  },
  {
   "cell_type": "code",
   "execution_count": 10,
   "metadata": {},
   "outputs": [
    {
     "name": "stderr",
     "output_type": "stream",
     "text": [
      "Processing images:   0%|          | 0/1629 [00:00<?, ?files/s]"
     ]
    },
    {
     "name": "stderr",
     "output_type": "stream",
     "text": [
      "2024-03-21 12:15:30.391395: I tensorflow/core/grappler/optimizers/custom_graph_optimizer_registry.cc:117] Plugin optimizer for device_type GPU is enabled.\n",
      "Processing images: 100%|█████████▉| 1628/1629 [02:39<00:00, 10.21files/s]\n"
     ]
    }
   ],
   "source": [
    "for label in labels:\n",
    "    os.makedirs(label, exist_ok=True)\n",
    "\n",
    "\n",
    "image_list = list_images(folder_path)\n"
   ]
  }
 ],
 "metadata": {
  "kernelspec": {
   "display_name": "Python 3",
   "language": "python",
   "name": "python3"
  },
  "language_info": {
   "codemirror_mode": {
    "name": "ipython",
    "version": 3
   },
   "file_extension": ".py",
   "mimetype": "text/x-python",
   "name": "python",
   "nbconvert_exporter": "python",
   "pygments_lexer": "ipython3",
   "version": "3.11.5"
  }
 },
 "nbformat": 4,
 "nbformat_minor": 2
}
